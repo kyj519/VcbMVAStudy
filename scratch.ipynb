{
 "cells": [
  {
   "cell_type": "code",
   "execution_count": null,
   "metadata": {},
   "outputs": [
    {
     "ename": "",
     "evalue": "",
     "output_type": "error",
     "traceback": [
      "\u001b[1;31mFailed to start the Kernel. \n",
      "Traceback (most recent call last):\n",
      "  File \"/home/yeonjoon/.vscode-server/extensions/ms-toolsai.jupyter-2022.6.1201981810/pythonFiles/vscode_datascience_helpers/daemon/daemon_python.py\", line 54, in _decorator\n",
      "    return func(self, *args, **kwargs)\n",
      "  File \"/home/yeonjoon/.vscode-server/extensions/ms-toolsai.jupyter-2022.6.1201981810/pythonFiles/vscode_datascience_helpers/jupyter_daemon.py\", line 111, in m_exec_module_observable\n",
      "    self._start_notebook(args, cwd, env)\n",
      "  File \"/home/yeonjoon/.vscode-server/extensions/ms-toolsai.jupyter-2022.6.1201981810/pythonFiles/vscode_datascience_helpers/jupyter_daemon.py\", line 168, in _start_notebook\n",
      "    app.launch_new_instance()\n",
      "  File \"/data9/Users/yeonjoon/miniconda3/envs/ML/lib/python3.9/site-packages/jupyter_core/application.py\", line 269, in launch_instance\n",
      "    return super().launch_instance(argv=argv, **kwargs)\n",
      "  File \"/data9/Users/yeonjoon/miniconda3/envs/ML/lib/python3.9/site-packages/traitlets/config/application.py\", line 975, in launch_instance\n",
      "    app.initialize(argv)\n",
      "  File \"/data9/Users/yeonjoon/miniconda3/envs/ML/lib/python3.9/site-packages/traitlets/config/application.py\", line 110, in inner\n",
      "    return method(app, *args, **kwargs)\n",
      "  File \"/data9/Users/yeonjoon/miniconda3/envs/ML/lib/python3.9/site-packages/notebook/notebookapp.py\", line 2141, in initialize\n",
      "    super().initialize(argv)\n",
      "  File \"/data9/Users/yeonjoon/miniconda3/envs/ML/lib/python3.9/site-packages/traitlets/config/application.py\", line 110, in inner\n",
      "    return method(app, *args, **kwargs)\n",
      "  File \"/data9/Users/yeonjoon/miniconda3/envs/ML/lib/python3.9/site-packages/jupyter_core/application.py\", line 244, in initialize\n",
      "    self.migrate_config()\n",
      "  File \"/data9/Users/yeonjoon/miniconda3/envs/ML/lib/python3.9/site-packages/jupyter_core/application.py\", line 174, in migrate_config\n",
      "    migrate()\n",
      "  File \"/data9/Users/yeonjoon/miniconda3/envs/ML/lib/python3.9/site-packages/jupyter_core/migrate.py\", line 241, in migrate\n",
      "    with open(os.path.join(env[\"jupyter_config\"], \"migrated\"), \"w\", encoding=\"utf-8\") as f:\n",
      "OSError: [Errno 30] Read-only file system: '/cvmfs/sft.cern.ch/lcg/app/releases/ROOT/6.22.06/x86_64-centos7-gcc48-opt/etc/notebook/migrated'\n",
      "\n",
      "Failed to run jupyter as observable with args notebook --no-browser --notebook-dir=\"/data6/Users/yeonjoon/VcbMVAStudy\" --NotebookApp.iopub_data_rate_limit=10000000000.0. \n",
      "View Jupyter <a href='command:jupyter.viewOutput'>log</a> for further details."
     ]
    }
   ],
   "source": [
    "import pandas as pd\n",
    "import ROOT\n",
    "import numpy as np"
   ]
  },
  {
   "cell_type": "code",
   "execution_count": null,
   "metadata": {},
   "outputs": [],
   "source": []
  }
 ],
 "metadata": {
  "kernelspec": {
   "display_name": "Python 3.9.13 ('ML')",
   "language": "python",
   "name": "python3"
  },
  "language_info": {
   "name": "python",
   "version": "3.9.13"
  },
  "orig_nbformat": 4,
  "vscode": {
   "interpreter": {
    "hash": "bd649343f61cae1e14599ffb69c03983fa1c4a21fea44c48fdfbb4dc7c14e8bd"
   }
  }
 },
 "nbformat": 4,
 "nbformat_minor": 2
}
