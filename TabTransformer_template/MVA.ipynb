{
 "cells": [
  {
   "cell_type": "code",
   "execution_count": 2,
   "metadata": {},
   "outputs": [
    {
     "data": {
      "text/plain": [
       "0"
      ]
     },
     "execution_count": 2,
     "metadata": {},
     "output_type": "execute_result"
    }
   ],
   "source": [
    "import os, sys\n",
    "os.system('source /cms/ldap_home/yeonjoon/working_dir/VcbMVAStudy/setup.sh')"
   ]
  },
  {
   "cell_type": "code",
   "execution_count": 3,
   "metadata": {},
   "outputs": [
    {
     "name": "stderr",
     "output_type": "stream",
     "text": [
      "/cms/ldap_home/yeonjoon/miniconda3/envs/ML-torch/lib/python3.10/site-packages/tqdm/auto.py:22: TqdmWarning: IProgress not found. Please update jupyter and ipywidgets. See https://ipywidgets.readthedocs.io/en/stable/user_install.html\n",
      "  from .autonotebook import tqdm as notebook_tqdm\n"
     ]
    },
    {
     "name": "stdout",
     "output_type": "stream",
     "text": [
      "Welcome to JupyROOT 6.26/06\n",
      "True\n",
      "Tesla P100-PCIE-16GB\n",
      "1\n",
      "cuda\n"
     ]
    }
   ],
   "source": [
    "import numpy as np\n",
    "from pytorch_tabnet.tab_model import TabNetClassifier\n",
    "import torch\n",
    "import sys\n",
    "sys.path.append('/cms/ldap_home/yeonjoon/working_dir/VcbMVAStudy')\n",
    "from root_data_loader import load_data, classWtoSampleW\n",
    "print(torch.cuda.is_available())\n",
    "print(torch.cuda.get_device_name(0))\n",
    "print(torch.cuda.device_count())\n",
    "device = torch.device(\"cuda\" if torch.cuda.is_available() else \"cpu\")\n",
    "print(device)"
   ]
  },
  {
   "cell_type": "code",
   "execution_count": 1,
   "metadata": {},
   "outputs": [],
   "source": [
    "varlist = ['bvsc_w_u','bvsc_w_d','cvsl_w_u','cvsl_w_d','cvsb_w_u','cvsb_w_d','n_bjets','n_cjets','weight']\n",
    "# varlist.extend(['n_jets',\n",
    "#                 'pt_had_t_b','pt_w_u','pt_w_d','pt_lep_t_b',\n",
    "#                 'eta_had_t_b','eta_w_u','eta_w_d','eta_lep_t_b',\n",
    "#                 'bvsc_lep_t_b','bvsc_had_t_b',\n",
    "#                 'm_w_u','m_w_d'])\n",
    "\n",
    "\n",
    "# varlist = ['bvsc_w_u','bvsc_w_d','cvsl_w_u','cvsl_w_d','cvsb_w_u','cvsb_w_d','n_bjets','n_cjets','pt_w_u','pt_w_d','weight']\n"
   ]
  },
  {
   "cell_type": "code",
   "execution_count": 4,
   "metadata": {},
   "outputs": [
    {
     "name": "stdout",
     "output_type": "stream",
     "text": [
      "root://cluster142.knu.ac.kr//store/user/yeonjoon/Vcb_2018_Mu_Reco_Tree.root\n",
      "Full dataset, For validation\n",
      "[0.0053459  0.0043507  0.03749209 0.03283206 0.8746199  0.88254017\n",
      " 0.         1.        ]\n"
     ]
    }
   ],
   "source": [
    "path_sample = 'root://cluster142.knu.ac.kr//store/user/yeonjoon'\n",
    "#filename = 'Vcb_Mu_TTLJ_WtoCB_powheg_25.root'\n",
    "filename = 'Vcb_2018_Mu_Reco_Tree.root' \n",
    "#,'Reco_41','Reco_23','Reco_21'\n",
    "data =  load_data(file_path=os.path.join(path_sample,filename),varlist=varlist,test_ratio=0,val_ratio=0,sigTree=['Reco_45'],bkgTree=[])\n",
    " "
   ]
  },
  {
   "cell_type": "code",
   "execution_count": 6,
   "metadata": {},
   "outputs": [
    {
     "name": "stderr",
     "output_type": "stream",
     "text": [
      "/cms/ldap_home/yeonjoon/miniconda3/envs/ML-torch/lib/python3.10/site-packages/pytorch_tabnet/abstract_model.py:75: UserWarning: Device used : cuda\n",
      "  warnings.warn(f\"Device used : {self.device}\")\n"
     ]
    }
   ],
   "source": [
    "model = TabNetClassifier()\n",
    "model.load_model('/cms/ldap_home/yeonjoon/working_dir/VcbMVAStudy/TabNet_template/model_2.pt.zip')"
   ]
  },
  {
   "cell_type": "code",
   "execution_count": 7,
   "metadata": {},
   "outputs": [
    {
     "name": "stderr",
     "output_type": "stream",
     "text": [
      "100%|██████████| 33/33 [00:01<00:00, 28.08it/s]\n"
     ]
    },
    {
     "data": {
      "text/plain": [
       "array([0.        , 0.19384173, 0.48342302, 0.        , 0.        ,\n",
       "       0.12791057, 0.19482467, 0.        , 0.        , 0.        ])"
      ]
     },
     "execution_count": 7,
     "metadata": {},
     "output_type": "execute_result"
    }
   ],
   "source": [
    "model._compute_feature_importances(data['val_features'][:100000])"
   ]
  },
  {
   "cell_type": "code",
   "execution_count": 8,
   "metadata": {},
   "outputs": [
    {
     "name": "stderr",
     "output_type": "stream",
     "text": [
      "100%|██████████| 129/129 [00:03<00:00, 35.67it/s]\n"
     ]
    }
   ],
   "source": [
    "import pandas as pd\n",
    "importance=model._compute_feature_importances(data['train_features'][:300000])\n",
    "importance = pd.Series(importance)"
   ]
  },
  {
   "cell_type": "code",
   "execution_count": 9,
   "metadata": {},
   "outputs": [
    {
     "data": {
      "text/plain": [
       "[Text(0, 0, 'bvsc_w_u'),\n",
       " Text(1, 0, 'bvsc_w_d'),\n",
       " Text(2, 0, 'cvsl_w_u'),\n",
       " Text(3, 0, 'cvsl_w_d'),\n",
       " Text(4, 0, 'cvsb_w_u'),\n",
       " Text(5, 0, 'cvsb_w_d'),\n",
       " Text(6, 0, 'n_bjets'),\n",
       " Text(7, 0, 'n_cjets'),\n",
       " Text(8, 0, 'pt_w_u'),\n",
       " Text(9, 0, 'pt_w_d')]"
      ]
     },
     "execution_count": 9,
     "metadata": {},
     "output_type": "execute_result"
    },
    {
     "data": {
      "image/png": "[encoded data removed]",
      "text/plain": [
       "<Figure size 1200x800 with 1 Axes>"
      ]
     },
     "metadata": {},
     "output_type": "display_data"
    }
   ],
   "source": [
    "varlist2 = ['bvsc_w_u','bvsc_w_d','cvsl_w_u','cvsl_w_d','cvsb_w_u','cvsb_w_d','n_bjets','n_cjets','pt_w_u','pt_w_d']\n",
    "\n",
    "from matplotlib import pyplot as plt\n",
    "plt.figure(figsize=(12, 8))\n",
    "fig = importance.plot(kind='bar')\n",
    "fig.set_xticklabels(varlist2)"
   ]
  },
  {
   "cell_type": "code",
   "execution_count": 10,
   "metadata": {},
   "outputs": [
    {
     "name": "stderr",
     "output_type": "stream",
     "text": [
      "/cms/ldap_home/yeonjoon/miniconda3/envs/ML-torch/lib/python3.10/site-packages/pytorch_tabnet/abstract_model.py:75: UserWarning: Device used : cuda\n",
      "  warnings.warn(f\"Device used : {self.device}\")\n"
     ]
    }
   ],
   "source": [
    "import ROOT\n",
    "from pytorch_tabnet.tab_model import TabNetClassifier\n",
    "import numpy as np\n",
    "import pandas as pd\n",
    "from matplotlib import pyplot as plt\n",
    "import sys,os\n",
    "sys.path.append('/cms/ldap_home/yeonjoon/working_dir/VcbMVAStudy')\n",
    "ROOT.EnableImplicitMT(16)\n",
    "from root_data_loader import load_data\n",
    "model = TabNetClassifier()\n",
    "model.load_model('/cms/ldap_home/yeonjoon/working_dir/VcbMVAStudy/TabNet_template/model.pt.zip')\n",
    "modelist = ['45','43','41','23','21']\n",
    "varlist = ['bvsc_w_u','bvsc_w_d','cvsl_w_u','cvsl_w_d','cvsb_w_u','cvsb_w_d','n_bjets','n_cjets','pt_w_u','pt_w_d','weight']\n",
    "# varlist.extend(['n_jets',\n",
    "#                 'pt_had_t_b','pt_w_u','pt_w_d','pt_lep_t_b',\n",
    "#                 'eta_had_t_b','eta_w_u','eta_w_d','eta_lep_t_b',\n",
    "#                 'bvsc_lep_t_b','bvsc_had_t_b',\n",
    "#                 'm_w_u','m_w_d'])\n",
    "result = []"
   ]
  },
  {
   "cell_type": "code",
   "execution_count": 11,
   "metadata": {},
   "outputs": [],
   "source": [
    "for mode in modelist:\n",
    "    #data =  load_data(file_path='root://cms-xrdr.private.lo:2094//xrd/store/user/yeonjoon/Vcb_2018_Mu_Reco_Tree.root',varlist=varlist,test_ratio=0,val_ratio=0,sigTree=[f'Reco_{mode}'],bkgTree=[])\n",
    "    # arr = data['train_features']\n",
    "    # plt.hist(model.predict_proba(arr)[:,1],bins=40)\n",
    "    # plt.savefig(f'/cms/ldap_home/yeonjoon/working_dir/VcbMVAStudy/TabNet_template/result_{mode}.png')\n",
    "    # plt.clf()\n",
    "    # del data\n",
    "    # del arr\n",
    "    \n",
    "    # data =  load_data(file_path='root://cluster142.knu.ac.kr//store/user/yeonjoon/Vcb_2018_Mu_Reco_Tree.root',varlist=varlist,test_ratio=0,val_ratio=0.2,sigTree=[f'Reco_{mode}'],bkgTree=[])\n",
    "    # arr = data['val_features']\n",
    "    # plt.hist(model.predict_proba(arr)[:,1],bins=40)\n",
    "    # plt.savefig(f'/cms/ldap_home/yeonjoon/working_dir/VcbMVAStudy/TabNet_template/result_{mode}_val.png')\n",
    "    # plt.clf()\n",
    "    # del arr\n",
    "    # del data\n",
    "    arr = data['train_features'] \n",
    "    result.append(model.predict_proba(arr)[:,1])"
   ]
  },
  {
   "cell_type": "code",
   "execution_count": 12,
   "metadata": {},
   "outputs": [
    {
     "data": {
      "text/plain": [
       "(array([82457., 25779.,  7686.,  3173.,  2460.,  1978.,  2664.,   879.,\n",
       "         1326.,  2943.]),\n",
       " array([8.30045537e-05, 2.27654129e-02, 4.54478227e-02, 6.81302324e-02,\n",
       "        9.08126384e-02, 1.13495044e-01, 1.36177450e-01, 1.58859864e-01,\n",
       "        1.81542277e-01, 2.04224676e-01, 2.26907089e-01]),\n",
       " <BarContainer object of 10 artists>)"
      ]
     },
     "execution_count": 12,
     "metadata": {},
     "output_type": "execute_result"
    },
    {
     "data": {
      "image/png": "[encoded data removed]",
      "text/plain": [
       "<Figure size 640x480 with 1 Axes>"
      ]
     },
     "metadata": {},
     "output_type": "display_data"
    }
   ],
   "source": [
    "plt.hist(result[0])"
   ]
  },
  {
   "cell_type": "code",
   "execution_count": null,
   "metadata": {},
   "outputs": [],
   "source": []
  }
 ],
 "metadata": {
  "kernelspec": {
   "display_name": "Python 3",
   "language": "python",
   "name": "python3"
  },
  "language_info": {
   "codemirror_mode": {
    "name": "ipython",
    "version": 3
   },
   "file_extension": ".py",
   "mimetype": "text/x-python",
   "name": "python",
   "nbconvert_exporter": "python",
   "pygments_lexer": "ipython3",
   "version": "3.10.8"
  },
  "orig_nbformat": 4,
  "vscode": {
   "interpreter": {
    "hash": "57f32c1cc0ce219ba7db054e9d700d693a775e83c213d3c5be887cbd71b64525"
   }
  }
 },
 "nbformat": 4,
 "nbformat_minor": 2
}
