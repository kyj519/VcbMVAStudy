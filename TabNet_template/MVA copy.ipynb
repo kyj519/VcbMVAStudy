{
 "cells": [
  {
   "cell_type": "code",
   "execution_count": 1,
   "metadata": {},
   "outputs": [
    {
     "data": {
      "text/plain": [
       "0"
      ]
     },
     "execution_count": 1,
     "metadata": {},
     "output_type": "execute_result"
    }
   ],
   "source": [
    "import os, sys\n",
    "os.system('source /cms/ldap_home/yeonjoon/working_dir/VcbMVAStudy/setup.sh')"
   ]
  },
  {
   "cell_type": "code",
   "execution_count": 2,
   "metadata": {},
   "outputs": [
    {
     "name": "stderr",
     "output_type": "stream",
     "text": [
      "/cms/ldap_home/yeonjoon/miniconda3/envs/ML-torch/lib/python3.10/site-packages/tqdm/auto.py:22: TqdmWarning: IProgress not found. Please update jupyter and ipywidgets. See https://ipywidgets.readthedocs.io/en/stable/user_install.html\n",
      "  from .autonotebook import tqdm as notebook_tqdm\n"
     ]
    },
    {
     "name": "stdout",
     "output_type": "stream",
     "text": [
      "Welcome to JupyROOT 6.26/06\n",
      "True\n",
      "Tesla P100-PCIE-16GB\n",
      "1\n",
      "cuda\n"
     ]
    }
   ],
   "source": [
    "import numpy as np\n",
    "from pytorch_tabnet.tab_model import TabNetClassifier\n",
    "import torch\n",
    "import sys\n",
    "sys.path.append('/cms/ldap_home/yeonjoon/working_dir/VcbMVAStudy')\n",
    "from root_data_loader import load_data, classWtoSampleW\n",
    "print(torch.cuda.is_available())\n",
    "print(torch.cuda.get_device_name(0))\n",
    "print(torch.cuda.device_count())\n",
    "device = torch.device(\"cuda\" if torch.cuda.is_available() else \"cpu\")\n",
    "print(device)"
   ]
  },
  {
   "cell_type": "code",
   "execution_count": 3,
   "metadata": {},
   "outputs": [],
   "source": [
    "varlist = ['bvsc_w_u','bvsc_w_d','cvsl_w_u','cvsl_w_d','cvsb_w_u','cvsb_w_d','n_bjets','n_cjets','weight']\n",
    "varlist.extend(['n_jets',\n",
    "                'pt_had_t_b','pt_w_u','pt_w_d','pt_lep_t_b',\n",
    "                'eta_had_t_b','eta_w_u','eta_w_d','eta_lep_t_b',\n",
    "                'bvsc_lep_t_b','bvsc_had_t_b'])"
   ]
  },
  {
   "cell_type": "code",
   "execution_count": 4,
   "metadata": {},
   "outputs": [
    {
     "name": "stdout",
     "output_type": "stream",
     "text": [
      "root://cluster142.knu.ac.kr//store/user/yeonjoon/Vcb_2018_Mu_Reco_Tree.root\n",
      "          bvsc_w_u  bvsc_w_d  cvsl_w_u  cvsl_w_d  cvsb_w_u  cvsb_w_d  n_bjets  \\\n",
      "0         0.005346  0.004351  0.037492  0.032832  0.874620  0.882540        2   \n",
      "1         0.009966  0.214181  0.050486  0.540041  0.833751  0.664585        2   \n",
      "2         0.004412  0.046763  0.033420  0.105244  0.882933  0.682070        2   \n",
      "3         0.021966  0.349963  0.088058  0.620084  0.796780  0.535266        2   \n",
      "4         0.008350  0.466603  0.079766  0.336992  0.904520  0.278099        2   \n",
      "...            ...       ...       ...       ...       ...       ...      ...   \n",
      "33343479  0.003910  0.008875  0.030518  0.047035  0.886033  0.840065        2   \n",
      "33343480  0.017368  0.003610  0.084502  0.033819  0.827017  0.903243        2   \n",
      "33343481  0.012735  0.035011  0.071595  0.126640  0.847334  0.777307        2   \n",
      "33343482  0.012129  0.010957  0.068448  0.051854  0.847907  0.823959        2   \n",
      "33343483  0.005697  0.012665  0.047412  0.055300  0.892183  0.811719        2   \n",
      "\n",
      "          n_cjets    weight  n_jets  ...     pt_w_d  pt_lep_t_b  eta_had_t_b  \\\n",
      "0               1  0.001405       8  ...  58.803593  101.636856     0.764295   \n",
      "1               2  0.004827       5  ...  79.774277  143.345200    -1.091944   \n",
      "2               4  0.002605       6  ...  29.823336   78.969704    -0.174497   \n",
      "3               3  0.010263       4  ...  63.158878   81.721085     0.561612   \n",
      "4               0  0.004530       5  ...  52.053410   70.985352    -0.969824   \n",
      "...           ...       ...     ...  ...        ...         ...          ...   \n",
      "33343479        0  0.021733       6  ...  28.074579  141.637100    -0.237101   \n",
      "33343480        1  0.036412       6  ...  29.126747   54.465446    -1.488181   \n",
      "33343481        2  0.073543       5  ...  35.915920   62.225502    -0.577538   \n",
      "33343482        0  0.031963       5  ...  39.174904  225.053131    -1.173816   \n",
      "33343483        1  0.032721       6  ...  25.761065  144.370850    -0.966098   \n",
      "\n",
      "           eta_w_u   eta_w_d  eta_lep_t_b  bvsc_lep_t_b  bvsc_had_t_b    y  \\\n",
      "0         1.312609  1.922400    -0.443171      0.998147      0.947234  1.0   \n",
      "1        -1.506288 -1.003768     0.919548      0.999018      0.791452  1.0   \n",
      "2        -0.759701 -1.056696     0.119592      0.223592      0.966784  1.0   \n",
      "3         0.340101 -0.258416     0.470760      0.183823      0.390545  1.0   \n",
      "4        -0.698045  0.588882     0.878435      0.006959      0.997014  1.0   \n",
      "...            ...       ...          ...           ...           ...  ...   \n",
      "33343479 -0.852306 -1.157729    -0.274956      0.999804      0.841047  0.0   \n",
      "33343480 -0.750847  0.683468    -0.257621      0.994451      0.884407  0.0   \n",
      "33343481 -0.499703 -2.009801    -1.206414      0.753009      0.011981  0.0   \n",
      "33343482 -0.887381 -0.194830    -0.034054      0.992723      0.389874  0.0   \n",
      "33343483 -0.107394  0.921942     0.165725      0.669094      0.998223  0.0   \n",
      "\n",
      "            Set  \n",
      "0         train  \n",
      "1           val  \n",
      "2         train  \n",
      "3         train  \n",
      "4         train  \n",
      "...         ...  \n",
      "33343479  train  \n",
      "33343480    val  \n",
      "33343481  train  \n",
      "33343482  train  \n",
      "33343483  train  \n",
      "\n",
      "[33343484 rows x 22 columns]\n",
      "bvsc_w_u        float32\n",
      "bvsc_w_d        float32\n",
      "cvsl_w_u        float32\n",
      "cvsl_w_d        float32\n",
      "cvsb_w_u        float32\n",
      "cvsb_w_d        float32\n",
      "n_bjets           int32\n",
      "n_cjets           int32\n",
      "weight          float32\n",
      "n_jets            int32\n",
      "pt_had_t_b      float32\n",
      "pt_w_u          float32\n",
      "pt_w_d          float32\n",
      "pt_lep_t_b      float32\n",
      "eta_had_t_b     float32\n",
      "eta_w_u         float32\n",
      "eta_w_d         float32\n",
      "eta_lep_t_b     float32\n",
      "bvsc_lep_t_b    float32\n",
      "bvsc_had_t_b    float32\n",
      "y               float64\n",
      "Set              object\n",
      "dtype: object\n",
      "n_bjets 8\n",
      "n_cjets 12\n",
      "n_jets 15\n",
      "[ 5.34590194e-03  4.35070368e-03  3.74920852e-02  3.28320563e-02\n",
      "  8.74619901e-01  8.82540166e-01  0.00000000e+00  1.00000000e+00\n",
      "  4.00000000e+00  1.13193405e+02  8.47241287e+01  5.88035927e+01\n",
      "  1.01636856e+02  7.64294803e-01  1.31260872e+00  1.92239964e+00\n",
      " -4.43170547e-01  9.98147368e-01  9.47233915e-01]\n"
     ]
    }
   ],
   "source": [
    "path_sample = 'root://cluster142.knu.ac.kr//store/user/yeonjoon'\n",
    "#filename = 'Vcb_Mu_TTLJ_WtoCB_powheg_25.root'\n",
    "filename = 'Vcb_2018_Mu_Reco_Tree.root' \n",
    "#,'Reco_41','Reco_23','Reco_21'\n",
    "data =  load_data(file_path=os.path.join(path_sample,filename),varlist=varlist,test_ratio=0,val_ratio=0.2,sigTree=['Reco_45'],bkgTree=['Reco_43','Reco_41','Reco_23','Reco_21'])\n",
    " "
   ]
  },
  {
   "cell_type": "code",
   "execution_count": 5,
   "metadata": {},
   "outputs": [
    {
     "name": "stderr",
     "output_type": "stream",
     "text": [
      "/cms/ldap_home/yeonjoon/miniconda3/envs/ML-torch/lib/python3.10/site-packages/pytorch_tabnet/abstract_model.py:75: UserWarning: Device used : cuda\n",
      "  warnings.warn(f\"Device used : {self.device}\")\n"
     ]
    }
   ],
   "source": [
    "clf = TabNetClassifier(\n",
    "    n_d=16,\n",
    "    n_a=16,\n",
    "    verbose=1,\n",
    "    cat_idxs=data['cat_idxs'],\n",
    "    cat_dims=data['cat_dims'],\n",
    "    cat_emb_dim=1\n",
    "    )  \n",
    "from pytorch_tabnet.augmentations import ClassificationSMOTE\n",
    "aug = ClassificationSMOTE(p=0.5)"
   ]
  },
  {
   "cell_type": "code",
   "execution_count": 6,
   "metadata": {},
   "outputs": [
    {
     "name": "stderr",
     "output_type": "stream",
     "text": [
      "100%|██████████| 814/814 [01:14<00:00, 10.96it/s]\n"
     ]
    },
    {
     "name": "stdout",
     "output_type": "stream",
     "text": [
      "epoch 0  | loss: 0.03101 | val_0_auc: 0.797   |  0:01:34s\n"
     ]
    },
    {
     "name": "stderr",
     "output_type": "stream",
     "text": [
      "100%|██████████| 814/814 [01:15<00:00, 10.74it/s]\n"
     ]
    },
    {
     "name": "stdout",
     "output_type": "stream",
     "text": [
      "epoch 1  | loss: 0.02722 | val_0_auc: 0.80814 |  0:03:10s\n"
     ]
    },
    {
     "name": "stderr",
     "output_type": "stream",
     "text": [
      "100%|██████████| 814/814 [01:16<00:00, 10.59it/s]\n"
     ]
    },
    {
     "name": "stdout",
     "output_type": "stream",
     "text": [
      "epoch 2  | loss: 0.02686 | val_0_auc: 0.81175 |  0:04:48s\n"
     ]
    },
    {
     "name": "stderr",
     "output_type": "stream",
     "text": [
      "100%|██████████| 814/814 [01:06<00:00, 12.17it/s]\n"
     ]
    },
    {
     "name": "stdout",
     "output_type": "stream",
     "text": [
      "epoch 3  | loss: 0.02711 | val_0_auc: 0.81333 |  0:06:15s\n"
     ]
    },
    {
     "name": "stderr",
     "output_type": "stream",
     "text": [
      "100%|██████████| 814/814 [01:04<00:00, 12.68it/s]\n"
     ]
    },
    {
     "name": "stdout",
     "output_type": "stream",
     "text": [
      "epoch 4  | loss: 0.02674 | val_0_auc: 0.81548 |  0:07:40s\n"
     ]
    },
    {
     "name": "stderr",
     "output_type": "stream",
     "text": [
      "100%|██████████| 814/814 [01:07<00:00, 12.01it/s]\n"
     ]
    },
    {
     "name": "stdout",
     "output_type": "stream",
     "text": [
      "epoch 5  | loss: 0.02668 | val_0_auc: 0.81427 |  0:09:08s\n"
     ]
    },
    {
     "name": "stderr",
     "output_type": "stream",
     "text": [
      "100%|██████████| 814/814 [01:06<00:00, 12.25it/s]\n"
     ]
    },
    {
     "name": "stdout",
     "output_type": "stream",
     "text": [
      "epoch 6  | loss: 0.0267  | val_0_auc: 0.81198 |  0:10:35s\n"
     ]
    },
    {
     "name": "stderr",
     "output_type": "stream",
     "text": [
      "100%|██████████| 814/814 [01:12<00:00, 11.28it/s]\n"
     ]
    },
    {
     "name": "stdout",
     "output_type": "stream",
     "text": [
      "epoch 7  | loss: 0.02713 | val_0_auc: 0.81327 |  0:12:08s\n"
     ]
    },
    {
     "name": "stderr",
     "output_type": "stream",
     "text": [
      "100%|██████████| 814/814 [01:12<00:00, 11.29it/s]\n"
     ]
    },
    {
     "name": "stdout",
     "output_type": "stream",
     "text": [
      "epoch 8  | loss: 0.02694 | val_0_auc: 0.80589 |  0:13:41s\n"
     ]
    },
    {
     "name": "stderr",
     "output_type": "stream",
     "text": [
      "100%|██████████| 814/814 [01:16<00:00, 10.67it/s]\n"
     ]
    },
    {
     "name": "stdout",
     "output_type": "stream",
     "text": [
      "epoch 9  | loss: 0.02713 | val_0_auc: 0.80783 |  0:15:18s\n",
      "Stop training because you reached max_epochs = 10 with best_epoch = 4 and best_val_0_auc = 0.81548\n",
      "eval\n",
      "eval end\n"
     ]
    },
    {
     "name": "stderr",
     "output_type": "stream",
     "text": [
      "/cms/ldap_home/yeonjoon/miniconda3/envs/ML-torch/lib/python3.10/site-packages/pytorch_tabnet/callbacks.py:172: UserWarning: Best weights from best epoch are automatically used!\n",
      "  warnings.warn(wrn_msg)\n"
     ]
    }
   ],
   "source": [
    "clf.fit(\n",
    "    X_train=data['train_features'],y_train=data['train_y'],\n",
    "    eval_set=[(data['val_features'], data['val_y'])],\n",
    "    eval_metric=['auc'],\n",
    "    max_epochs=10,\n",
    "    num_workers=4,\n",
    "    #weights=data['class_weight']\n",
    "    weights=0,\n",
    "    batch_size=8192*4,\n",
    "    virtual_batch_size=2048*8,\n",
    "    augmentations=aug\n",
    "    #callbacks=[pytorch_tabnet.callbacks.History(clf,verbose=1)]\n",
    "  )"
   ]
  },
  {
   "cell_type": "code",
   "execution_count": 7,
   "metadata": {},
   "outputs": [],
   "source": [
    "from matplotlib import pyplot as plt"
   ]
  },
  {
   "cell_type": "code",
   "execution_count": 8,
   "metadata": {},
   "outputs": [
    {
     "name": "stdout",
     "output_type": "stream",
     "text": [
      "root://cluster142.knu.ac.kr//store/user/yeonjoon/Vcb_2018_Mu_Reco_Tree.root\n",
      "Full dataset, For validation\n",
      "        bvsc_w_u  bvsc_w_d  cvsl_w_u  cvsl_w_d  cvsb_w_u  cvsb_w_d  n_bjets  \\\n",
      "0       0.005346  0.004351  0.037492  0.032832  0.874620  0.882540        2   \n",
      "1       0.009966  0.214181  0.050486  0.540041  0.833751  0.664585        2   \n",
      "2       0.004412  0.046763  0.033420  0.105244  0.882933  0.682070        2   \n",
      "3       0.021966  0.349963  0.088058  0.620084  0.796780  0.535266        2   \n",
      "4       0.008350  0.466603  0.079766  0.336992  0.904520  0.278099        2   \n",
      "...          ...       ...       ...       ...       ...       ...      ...   \n",
      "164275  0.117628  0.514092  0.999177  0.562011  0.882286  0.346918        3   \n",
      "164276  0.009321  0.568587  0.049498  0.993976  0.840274  0.429932        2   \n",
      "164277  0.030051  0.975839  0.079449  0.985171  0.719441  0.023811        3   \n",
      "164278  0.025305  0.793889  0.077474  0.997660  0.749007  0.205728        2   \n",
      "164279  0.035696  0.564575  0.221970  0.744727  0.857069  0.364823        3   \n",
      "\n",
      "        n_cjets    weight  n_jets  ...     pt_w_d  pt_lep_t_b  eta_had_t_b  \\\n",
      "0             1  0.001405       8  ...  58.803593  101.636856     0.764295   \n",
      "1             2  0.004827       5  ...  79.774277  143.345200    -1.091944   \n",
      "2             4  0.002605       6  ...  29.823336   78.969704    -0.174497   \n",
      "3             3  0.010263       4  ...  63.158878   81.721085     0.561612   \n",
      "4             0  0.004530       5  ...  52.053410   70.985352    -0.969824   \n",
      "...         ...       ...     ...  ...        ...         ...          ...   \n",
      "164275        3  0.001975       4  ...  30.731461  110.524231     1.095953   \n",
      "164276        1  0.003521       5  ...  22.887869  115.855278    -1.377522   \n",
      "164277        0  0.005412       4  ...  34.282513   33.828545     1.032161   \n",
      "164278        2  0.002426       6  ...  34.522018   76.520638    -0.865842   \n",
      "164279        3  0.003550       5  ...  51.677238  102.473396    -2.114990   \n",
      "\n",
      "         eta_w_u   eta_w_d  eta_lep_t_b  bvsc_lep_t_b  bvsc_had_t_b    y  \\\n",
      "0       1.312609  1.922400    -0.443171      0.998147      0.947234  1.0   \n",
      "1      -1.506288 -1.003768     0.919548      0.999018      0.791452  1.0   \n",
      "2      -0.759701 -1.056696     0.119592      0.223592      0.966784  1.0   \n",
      "3       0.340101 -0.258416     0.470760      0.183823      0.390545  1.0   \n",
      "4      -0.698045  0.588882     0.878435      0.006959      0.997014  1.0   \n",
      "...          ...       ...          ...           ...           ...  ...   \n",
      "164275  1.819916  2.200718     1.280193      0.998971      0.527601  1.0   \n",
      "164276 -0.018308 -1.204148     1.217509      0.018774      0.998695  1.0   \n",
      "164277 -1.405851 -0.249349    -2.417242      0.663160      0.841762  1.0   \n",
      "164278  0.907871 -0.685931     0.074118      0.139263      0.899503  1.0   \n",
      "164279 -1.163464 -1.639050     0.212558      0.842164      0.369963  1.0   \n",
      "\n",
      "          Set  \n",
      "0       train  \n",
      "1       train  \n",
      "2       train  \n",
      "3       train  \n",
      "4       train  \n",
      "...       ...  \n",
      "164275  train  \n",
      "164276  train  \n",
      "164277  train  \n",
      "164278  train  \n",
      "164279  train  \n",
      "\n",
      "[164280 rows x 22 columns]\n",
      "bvsc_w_u        float32\n",
      "bvsc_w_d        float32\n",
      "cvsl_w_u        float32\n",
      "cvsl_w_d        float32\n",
      "cvsb_w_u        float32\n",
      "cvsb_w_d        float32\n",
      "n_bjets           int32\n",
      "n_cjets           int32\n",
      "weight          float32\n",
      "n_jets            int32\n",
      "pt_had_t_b      float32\n",
      "pt_w_u          float32\n",
      "pt_w_d          float32\n",
      "pt_lep_t_b      float32\n",
      "eta_had_t_b     float32\n",
      "eta_w_u         float32\n",
      "eta_w_d         float32\n",
      "eta_lep_t_b     float32\n",
      "bvsc_lep_t_b    float32\n",
      "bvsc_had_t_b    float32\n",
      "y               float64\n",
      "Set              object\n",
      "dtype: object\n",
      "n_bjets 6\n",
      "n_cjets 9\n",
      "n_jets 12\n",
      "[ 5.34590194e-03  4.35070368e-03  3.74920852e-02  3.28320563e-02\n",
      "  8.74619901e-01  8.82540166e-01  0.00000000e+00  1.00000000e+00\n",
      "  4.00000000e+00  1.13193405e+02  8.47241287e+01  5.88035927e+01\n",
      "  1.01636856e+02  7.64294803e-01  1.31260872e+00  1.92239964e+00\n",
      " -4.43170547e-01  9.98147368e-01  9.47233915e-01]\n",
      "root://cluster142.knu.ac.kr//store/user/yeonjoon/Vcb_2018_Mu_Reco_Tree.root\n",
      "Full dataset, For validation\n",
      "          bvsc_w_u  bvsc_w_d  cvsl_w_u  cvsl_w_d  cvsb_w_u  cvsb_w_d  n_bjets  \\\n",
      "0         0.003381  0.013138  0.084175  0.059421  0.961257  0.816967        2   \n",
      "1         0.520397  0.879239  0.553805  0.960240  0.337921  0.116519        4   \n",
      "2         0.008947  0.002985  0.088085  0.029547  0.907043  0.907994        2   \n",
      "3         0.003138  0.036699  0.034071  0.107735  0.915418  0.738761        2   \n",
      "4         0.099090  0.002826  0.992940  0.036022  0.900276  0.927069        3   \n",
      "...            ...       ...       ...       ...       ...       ...      ...   \n",
      "16416180  0.122930  0.008707  0.888696  0.042807  0.863771  0.829753        2   \n",
      "16416181  0.032432  0.029233  0.431897  0.073905  0.927980  0.710501        3   \n",
      "16416182  0.003438  0.024380  0.034033  0.153351  0.907970  0.859878        2   \n",
      "16416183  0.010947  0.975239  0.053339  0.993516  0.828148  0.024604        3   \n",
      "16416184  0.021070  0.030958  0.071402  0.074337  0.768377  0.699414        2   \n",
      "\n",
      "          n_cjets    weight  n_jets  ...     pt_w_d  pt_lep_t_b  eta_had_t_b  \\\n",
      "0               0  0.036078       4  ...  20.678226   44.616467     0.580073   \n",
      "1               2  0.060119       4  ...  69.448753   43.860100    -0.151059   \n",
      "2               1  0.039934       5  ...  57.922077  109.907074     0.666206   \n",
      "3               3  0.037620       6  ...  87.181732   94.362717     0.925760   \n",
      "4               4  0.016238       7  ...  78.827248   95.976830    -0.816546   \n",
      "...           ...       ...     ...  ...        ...         ...          ...   \n",
      "16416180        1  0.031307       5  ...  45.478294   71.863548    -1.581046   \n",
      "16416181        1  0.034398       5  ...  22.011007  129.076401    -1.321124   \n",
      "16416182        1  0.027081       5  ...  83.181633   48.773720    -1.156688   \n",
      "16416183        1  0.053291       5  ...  24.593813  208.218521     1.815249   \n",
      "16416184        1  0.047596       6  ...  35.410805   36.845154    -0.352554   \n",
      "\n",
      "           eta_w_u   eta_w_d  eta_lep_t_b  bvsc_lep_t_b  bvsc_had_t_b    y  \\\n",
      "0         0.452267  1.722938     0.510028      0.990469      0.994895  1.0   \n",
      "1        -1.990397 -0.588925     0.984329      0.565058      0.371169  1.0   \n",
      "2         1.981565  1.021834     0.752594      0.983072      0.923397  1.0   \n",
      "3        -0.727374 -0.085006     0.151627      0.531856      0.046823  1.0   \n",
      "4        -1.694526 -0.587461    -0.155224      0.383025      0.541428  1.0   \n",
      "...            ...       ...          ...           ...           ...  ...   \n",
      "16416180 -1.074791 -1.613030     0.279637      0.997247      0.951868  1.0   \n",
      "16416181 -2.162520 -1.795415    -0.280178      0.999978      0.996697  1.0   \n",
      "16416182 -1.682857 -1.039523     1.098373      0.999928      0.990084  1.0   \n",
      "16416183  2.457658  0.436758     0.188086      0.882734      0.444865  1.0   \n",
      "16416184  1.381083  0.673926    -1.614577      0.964069      0.999772  1.0   \n",
      "\n",
      "            Set  \n",
      "0         train  \n",
      "1         train  \n",
      "2         train  \n",
      "3         train  \n",
      "4         train  \n",
      "...         ...  \n",
      "16416180  train  \n",
      "16416181  train  \n",
      "16416182  train  \n",
      "16416183  train  \n",
      "16416184  train  \n",
      "\n",
      "[16416185 rows x 22 columns]\n",
      "bvsc_w_u        float32\n",
      "bvsc_w_d        float32\n",
      "cvsl_w_u        float32\n",
      "cvsl_w_d        float32\n",
      "cvsb_w_u        float32\n",
      "cvsb_w_d        float32\n",
      "n_bjets           int32\n",
      "n_cjets           int32\n",
      "weight          float32\n",
      "n_jets            int32\n",
      "pt_had_t_b      float32\n",
      "pt_w_u          float32\n",
      "pt_w_d          float32\n",
      "pt_lep_t_b      float32\n",
      "eta_had_t_b     float32\n",
      "eta_w_u         float32\n",
      "eta_w_d         float32\n",
      "eta_lep_t_b     float32\n",
      "bvsc_lep_t_b    float32\n",
      "bvsc_had_t_b    float32\n",
      "y               float64\n",
      "Set              object\n",
      "dtype: object\n",
      "n_bjets 7\n",
      "n_cjets 12\n",
      "n_jets 14\n",
      "[3.38111748e-03 1.31378314e-02 8.41747895e-02 5.94211966e-02\n",
      " 9.61257398e-01 8.16966712e-01 0.00000000e+00 0.00000000e+00\n",
      " 0.00000000e+00 9.37745895e+01 1.10705116e+02 2.06782265e+01\n",
      " 4.46164665e+01 5.80073178e-01 4.52266932e-01 1.72293818e+00\n",
      " 5.10028422e-01 9.90468979e-01 9.94894803e-01]\n",
      "root://cluster142.knu.ac.kr//store/user/yeonjoon/Vcb_2018_Mu_Reco_Tree.root\n",
      "Full dataset, For validation\n",
      "        bvsc_w_u  bvsc_w_d  cvsl_w_u  cvsl_w_d  cvsb_w_u  cvsb_w_d  n_bjets  \\\n",
      "0       0.010908  0.034341  0.055605  0.149321  0.834499  0.807650        2   \n",
      "1       0.003806  0.913067  0.030576  0.994401  0.888937  0.086489        2   \n",
      "2       0.005478  0.004602  0.048599  0.042106  0.898196  0.901055        2   \n",
      "3       0.007599  0.016616  0.054221  0.071758  0.876253  0.809412        2   \n",
      "4       0.009372  0.007805  0.126999  0.076858  0.930671  0.907150        2   \n",
      "...          ...       ...       ...       ...       ...       ...      ...   \n",
      "870643  0.016283  0.139450  0.164830  0.373179  0.908743  0.697237        2   \n",
      "870644  0.007239  0.037639  0.048911  0.111320  0.870256  0.740006        2   \n",
      "870645  0.002983  0.021837  0.033055  0.064224  0.917006  0.742061        2   \n",
      "870646  0.002889  0.296785  0.026979  0.333550  0.903008  0.441443        3   \n",
      "870647  0.067279  0.301062  0.119897  0.999572  0.624372  0.698847        2   \n",
      "\n",
      "        n_cjets    weight  n_jets  ...     pt_w_d  pt_lep_t_b  eta_had_t_b  \\\n",
      "0             1  0.056660       4  ...  30.487782   27.222433     1.538400   \n",
      "1             1  0.032198       5  ...  45.586731  100.991318     0.227906   \n",
      "2             0  0.037873       5  ...  72.509369  106.013550    -1.844822   \n",
      "3             0  0.040124       4  ...  25.374405  103.763756    -0.856445   \n",
      "4             2  0.037069       6  ...  61.341274   89.423180    -0.117766   \n",
      "...         ...       ...     ...  ...        ...         ...          ...   \n",
      "870643        4  0.042021       5  ...  61.805050   38.504036     2.409822   \n",
      "870644        1  0.024520       6  ...  22.907093   29.245867     1.513743   \n",
      "870645        1  0.041289       4  ...  51.691315   43.777809    -0.010014   \n",
      "870646        2  0.065414       5  ...  40.622593   67.021263     0.068861   \n",
      "870647        5  0.065883       7  ...  87.309448   22.866272    -1.798153   \n",
      "\n",
      "         eta_w_u   eta_w_d  eta_lep_t_b  bvsc_lep_t_b  bvsc_had_t_b    y  \\\n",
      "0       1.069757  1.103052     2.371831      0.982280      0.999870  1.0   \n",
      "1       1.053720 -0.175166    -0.234455      0.999546      0.080249  1.0   \n",
      "2      -2.184826 -1.399984     1.809934      0.999373      0.982321  1.0   \n",
      "3       0.091728  0.557766    -0.047897      0.994027      0.999970  1.0   \n",
      "4       0.350056  1.836843     2.179274      0.990652      0.998292  1.0   \n",
      "...          ...       ...          ...           ...           ...  ...   \n",
      "870643  2.189809  1.818643     0.874355      0.520260      0.384798  1.0   \n",
      "870644  1.757500  1.785396    -0.460598      0.999409      0.960362  1.0   \n",
      "870645 -0.060417 -0.516754     2.265123      0.300521      0.806922  1.0   \n",
      "870646  0.066475 -0.186919     1.797613      0.091686      0.964542  1.0   \n",
      "870647 -0.077009 -0.136572     1.531042      0.207616      0.499495  1.0   \n",
      "\n",
      "          Set  \n",
      "0       train  \n",
      "1       train  \n",
      "2       train  \n",
      "3       train  \n",
      "4       train  \n",
      "...       ...  \n",
      "870643  train  \n",
      "870644  train  \n",
      "870645  train  \n",
      "870646  train  \n",
      "870647  train  \n",
      "\n",
      "[870648 rows x 22 columns]\n",
      "bvsc_w_u        float32\n",
      "bvsc_w_d        float32\n",
      "cvsl_w_u        float32\n",
      "cvsl_w_d        float32\n",
      "cvsb_w_u        float32\n",
      "cvsb_w_d        float32\n",
      "n_bjets           int32\n",
      "n_cjets           int32\n",
      "weight          float32\n",
      "n_jets            int32\n",
      "pt_had_t_b      float32\n",
      "pt_w_u          float32\n",
      "pt_w_d          float32\n",
      "pt_lep_t_b      float32\n",
      "eta_had_t_b     float32\n",
      "eta_w_u         float32\n",
      "eta_w_d         float32\n",
      "eta_lep_t_b     float32\n",
      "bvsc_lep_t_b    float32\n",
      "bvsc_had_t_b    float32\n",
      "y               float64\n",
      "Set              object\n",
      "dtype: object\n",
      "n_bjets 6\n",
      "n_cjets 10\n",
      "n_jets 14\n",
      "[1.09075913e-02 3.43409628e-02 5.56053557e-02 1.49320871e-01\n",
      " 8.34498823e-01 8.07650328e-01 0.00000000e+00 1.00000000e+00\n",
      " 0.00000000e+00 1.04237045e+02 4.40236626e+01 3.04877815e+01\n",
      " 2.72224331e+01 1.53839993e+00 1.06975734e+00 1.10305190e+00\n",
      " 2.37183118e+00 9.82279956e-01 9.99869645e-01]\n",
      "root://cluster142.knu.ac.kr//store/user/yeonjoon/Vcb_2018_Mu_Reco_Tree.root\n",
      "Full dataset, For validation\n",
      "        bvsc_w_u  bvsc_w_d  cvsl_w_u  cvsl_w_d  cvsb_w_u  cvsb_w_d  n_bjets  \\\n",
      "0       0.019773  0.034131  0.074951  0.107861  0.787940  0.753229        2   \n",
      "1       0.010116  0.002647  0.080851  0.045619  0.887789  0.945024        2   \n",
      "2       0.012233  0.985550  0.076175  0.974358  0.860152  0.014084        2   \n",
      "3       0.005910  0.024424  0.047356  0.124321  0.888453  0.832380        2   \n",
      "4       0.012876  0.198146  0.066269  0.207353  0.835542  0.456259        2   \n",
      "...          ...       ...       ...       ...       ...       ...      ...   \n",
      "797871  0.008740  0.007135  0.224892  0.042249  0.962273  0.854626        2   \n",
      "797872  0.005078  0.011310  0.083053  0.146785  0.942105  0.927702        2   \n",
      "797873  0.003098  0.018890  0.046531  0.135733  0.937393  0.875773        2   \n",
      "797874  0.027757  0.120476  0.072473  0.401483  0.717393  0.745611        2   \n",
      "797875  0.063434  0.093718  0.151932  0.191687  0.691660  0.649576        2   \n",
      "\n",
      "        n_cjets    weight  n_jets  ...      pt_w_d  pt_lep_t_b  eta_had_t_b  \\\n",
      "0             3  0.061568       5  ...   32.261909   28.831459    -0.642872   \n",
      "1             2  0.038056       5  ...   46.051777   33.395332    -0.956774   \n",
      "2             1  0.037316       4  ...   49.252304   66.550957    -0.867146   \n",
      "3             2  0.052959       5  ...   67.695808   81.346382     0.853238   \n",
      "4             2  0.058813       5  ...   38.751190   33.195896    -0.898785   \n",
      "...         ...       ...     ...  ...         ...         ...          ...   \n",
      "797871        2  0.045447       5  ...   53.705292  113.786903     1.110760   \n",
      "797872        2  0.065157       5  ...   71.735245   74.418571     1.364291   \n",
      "797873        1  0.031656       5  ...   63.735901   43.631783     1.893434   \n",
      "797874        2  0.042494       5  ...   67.860069   71.109535    -0.381346   \n",
      "797875        2  0.110260       4  ...  147.425644   77.138092     0.809102   \n",
      "\n",
      "         eta_w_u   eta_w_d  eta_lep_t_b  bvsc_lep_t_b  bvsc_had_t_b    y  \\\n",
      "0      -0.168106  0.969824     0.370778      0.353812      0.601012  1.0   \n",
      "1       1.156741 -0.228406    -0.391667      0.839009      0.491544  1.0   \n",
      "2      -1.298372 -1.537107     0.908956      0.351819      0.007402  1.0   \n",
      "3       1.673309  1.760480     0.608543      0.953545      0.999485  1.0   \n",
      "4      -0.658575 -1.848447    -0.708594      0.913493      0.735030  1.0   \n",
      "...          ...       ...          ...           ...           ...  ...   \n",
      "797871  0.416621 -0.627388    -0.112120      0.555504      0.986034  1.0   \n",
      "797872  1.009247  1.780751     1.612400      0.188789      0.998173  1.0   \n",
      "797873  0.778549  0.066563     0.618804      0.978722      0.990560  1.0   \n",
      "797874  0.349967 -0.117018    -1.778546      0.480264      0.987775  1.0   \n",
      "797875  1.814849  2.378062     1.068622      0.956204      0.303133  1.0   \n",
      "\n",
      "          Set  \n",
      "0       train  \n",
      "1       train  \n",
      "2       train  \n",
      "3       train  \n",
      "4       train  \n",
      "...       ...  \n",
      "797871  train  \n",
      "797872  train  \n",
      "797873  train  \n",
      "797874  train  \n",
      "797875  train  \n",
      "\n",
      "[797876 rows x 22 columns]\n",
      "bvsc_w_u        float32\n",
      "bvsc_w_d        float32\n",
      "cvsl_w_u        float32\n",
      "cvsl_w_d        float32\n",
      "cvsb_w_u        float32\n",
      "cvsb_w_d        float32\n",
      "n_bjets           int32\n",
      "n_cjets           int32\n",
      "weight          float32\n",
      "n_jets            int32\n",
      "pt_had_t_b      float32\n",
      "pt_w_u          float32\n",
      "pt_w_d          float32\n",
      "pt_lep_t_b      float32\n",
      "eta_had_t_b     float32\n",
      "eta_w_u         float32\n",
      "eta_w_d         float32\n",
      "eta_lep_t_b     float32\n",
      "bvsc_lep_t_b    float32\n",
      "bvsc_had_t_b    float32\n",
      "y               float64\n",
      "Set              object\n",
      "dtype: object\n",
      "n_bjets 6\n",
      "n_cjets 9\n",
      "n_jets 13\n",
      "[ 1.97728649e-02  3.41309533e-02  7.49511272e-02  1.07860707e-01\n",
      "  7.87940383e-01  7.53229082e-01  0.00000000e+00  3.00000000e+00\n",
      "  1.00000000e+00  2.59002476e+01  8.82946472e+01  3.22619095e+01\n",
      "  2.88314590e+01 -6.42872095e-01 -1.68106183e-01  9.69824135e-01\n",
      "  3.70777965e-01  3.53811830e-01  6.01011634e-01]\n",
      "root://cluster142.knu.ac.kr//store/user/yeonjoon/Vcb_2018_Mu_Reco_Tree.root\n",
      "Full dataset, For validation\n",
      "          bvsc_w_u  bvsc_w_d  cvsl_w_u  cvsl_w_d  cvsb_w_u  cvsb_w_d  n_bjets  \\\n",
      "0         0.011240  0.022233  0.072723  0.043334  0.864813  0.655850        2   \n",
      "1         0.009674  0.005709  0.078707  0.045608  0.889586  0.888175        2   \n",
      "2         0.013266  0.105318  0.146429  0.138481  0.915907  0.540525        2   \n",
      "3         0.011189  0.787567  0.087005  0.996693  0.884910  0.211880        2   \n",
      "4         0.003260  0.004898  0.027560  0.035355  0.893904  0.877794        3   \n",
      "...            ...       ...       ...       ...       ...       ...      ...   \n",
      "15094490  0.003910  0.008875  0.030518  0.047035  0.886033  0.840065        2   \n",
      "15094491  0.017368  0.003610  0.084502  0.033819  0.827017  0.903243        2   \n",
      "15094492  0.012735  0.035011  0.071595  0.126640  0.847334  0.777307        2   \n",
      "15094493  0.012129  0.010957  0.068448  0.051854  0.847907  0.823959        2   \n",
      "15094494  0.005697  0.012665  0.047412  0.055300  0.892183  0.811719        2   \n",
      "\n",
      "          n_cjets    weight  n_jets  ...     pt_w_d  pt_lep_t_b  eta_had_t_b  \\\n",
      "0               0  0.022803       7  ...  25.253063   60.714970     0.818081   \n",
      "1               0  0.043742       5  ...  91.586006   30.295172    -0.600104   \n",
      "2               2  0.034631       7  ...  20.918064   23.466692     0.563772   \n",
      "3               0  0.055194       4  ...  72.501854  203.347534     1.455030   \n",
      "4               2  0.019434       8  ...  73.687599   70.987122    -1.657055   \n",
      "...           ...       ...     ...  ...        ...         ...          ...   \n",
      "15094490        0  0.021733       6  ...  28.074579  141.637100    -0.237101   \n",
      "15094491        1  0.036412       6  ...  29.126747   54.465446    -1.488181   \n",
      "15094492        2  0.073543       5  ...  35.915920   62.225502    -0.577538   \n",
      "15094493        0  0.031963       5  ...  39.174904  225.053131    -1.173816   \n",
      "15094494        1  0.032721       6  ...  25.761065  144.370850    -0.966098   \n",
      "\n",
      "           eta_w_u   eta_w_d  eta_lep_t_b  bvsc_lep_t_b  bvsc_had_t_b    y  \\\n",
      "0         1.797252  1.204946     1.600151      0.999435      0.885797  1.0   \n",
      "1        -1.990952 -0.821782     1.284322      0.999289      0.999498  1.0   \n",
      "2         1.503032  0.068343    -0.415630      0.862966      0.998055  1.0   \n",
      "3         1.045971  2.080446     1.252994      0.013794      0.996396  1.0   \n",
      "4        -1.447900 -0.457392     0.511145      0.442654      0.843737  1.0   \n",
      "...            ...       ...          ...           ...           ...  ...   \n",
      "15094490 -0.852306 -1.157729    -0.274956      0.999804      0.841047  1.0   \n",
      "15094491 -0.750847  0.683468    -0.257621      0.994451      0.884407  1.0   \n",
      "15094492 -0.499703 -2.009801    -1.206414      0.753009      0.011981  1.0   \n",
      "15094493 -0.887381 -0.194830    -0.034054      0.992723      0.389874  1.0   \n",
      "15094494 -0.107394  0.921942     0.165725      0.669094      0.998223  1.0   \n",
      "\n",
      "            Set  \n",
      "0         train  \n",
      "1         train  \n",
      "2         train  \n",
      "3         train  \n",
      "4         train  \n",
      "...         ...  \n",
      "15094490  train  \n",
      "15094491  train  \n",
      "15094492  train  \n",
      "15094493  train  \n",
      "15094494  train  \n",
      "\n",
      "[15094495 rows x 22 columns]\n",
      "bvsc_w_u        float32\n",
      "bvsc_w_d        float32\n",
      "cvsl_w_u        float32\n",
      "cvsl_w_d        float32\n",
      "cvsb_w_u        float32\n",
      "cvsb_w_d        float32\n",
      "n_bjets           int32\n",
      "n_cjets           int32\n",
      "weight          float32\n",
      "n_jets            int32\n",
      "pt_had_t_b      float32\n",
      "pt_w_u          float32\n",
      "pt_w_d          float32\n",
      "pt_lep_t_b      float32\n",
      "eta_had_t_b     float32\n",
      "eta_w_u         float32\n",
      "eta_w_d         float32\n",
      "eta_lep_t_b     float32\n",
      "bvsc_lep_t_b    float32\n",
      "bvsc_had_t_b    float32\n",
      "y               float64\n",
      "Set              object\n",
      "dtype: object\n",
      "n_bjets 8\n",
      "n_cjets 11\n",
      "n_jets 15\n",
      "[1.12402998e-02 2.22334675e-02 7.27232099e-02 4.33339737e-02\n",
      " 8.64812613e-01 6.55849874e-01 0.00000000e+00 0.00000000e+00\n",
      " 3.00000000e+00 8.84959030e+01 4.41425629e+01 2.52530632e+01\n",
      " 6.07149696e+01 8.18081081e-01 1.79725194e+00 1.20494580e+00\n",
      " 1.60015142e+00 9.99434531e-01 8.85796785e-01]\n"
     ]
    },
    {
     "data": {
      "text/plain": [
       "<Figure size 640x480 with 0 Axes>"
      ]
     },
     "metadata": {},
     "output_type": "display_data"
    }
   ],
   "source": [
    "modelist = ['45','43','41','23','21']\n",
    "# varlist.extend(['n_jets',\n",
    "#                 'pt_had_t_b','pt_w_u','pt_w_d','pt_lep_t_b',\n",
    "#                 'eta_had_t_b','eta_w_u','eta_w_d','eta_lep_t_b',\n",
    "#                 'bvsc_lep_t_b','bvsc_had_t_b',\n",
    "#                 'm_w_u','m_w_d'])\n",
    "model = TabNetClassifier()\n",
    "model.load_model('/cms/ldap_home/yeonjoon/working_dir/VcbMVAStudy/TabNet_template/model.pt.zip')\n",
    "for mode in modelist:\n",
    "    data =  load_data(file_path='root://cluster142.knu.ac.kr//store/user/yeonjoon/Vcb_2018_Mu_Reco_Tree.root',varlist=varlist,test_ratio=0,val_ratio=0,sigTree=[f'Reco_{mode}'],bkgTree=[])\n",
    "    arr = data['train_features']\n",
    "    plt.hist(model.predict_proba(arr)[:,1],bins=40)\n",
    "    plt.savefig(f'/cms/ldap_home/yeonjoon/working_dir/VcbMVAStudy/TabNet_template/result_{mode}_temp.png')\n",
    "    plt.clf()\n",
    "\n",
    "    del arr"
   ]
  },
  {
   "cell_type": "code",
   "execution_count": null,
   "metadata": {},
   "outputs": [],
   "source": []
  }
 ],
 "metadata": {
  "kernelspec": {
   "display_name": "Python 3",
   "language": "python",
   "name": "python3"
  },
  "language_info": {
   "codemirror_mode": {
    "name": "ipython",
    "version": 3
   },
   "file_extension": ".py",
   "mimetype": "text/x-python",
   "name": "python",
   "nbconvert_exporter": "python",
   "pygments_lexer": "ipython3",
   "version": "3.10.8"
  },
  "orig_nbformat": 4,
  "vscode": {
   "interpreter": {
    "hash": "57f32c1cc0ce219ba7db054e9d700d693a775e83c213d3c5be887cbd71b64525"
   }
  }
 },
 "nbformat": 4,
 "nbformat_minor": 2
}
